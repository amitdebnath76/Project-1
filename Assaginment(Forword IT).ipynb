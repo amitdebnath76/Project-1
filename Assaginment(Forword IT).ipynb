{
 "cells": [
  {
   "cell_type": "code",
   "execution_count": 1,
   "id": "5c3e1f9e",
   "metadata": {},
   "outputs": [],
   "source": [
    "##10. Access value 20 from the following tuple -> aTuple = (\"Orange\", [10, 20, 30], (5, 15, 25))"
   ]
  },
  {
   "cell_type": "code",
   "execution_count": 2,
   "id": "21b52bb6",
   "metadata": {},
   "outputs": [],
   "source": [
    "list=[2,3,4,6]\n",
    "list.append(30)"
   ]
  },
  {
   "cell_type": "code",
   "execution_count": 3,
   "id": "c249ab91",
   "metadata": {},
   "outputs": [
    {
     "name": "stdout",
     "output_type": "stream",
     "text": [
      "[2, 3, 4, 6, 30]\n"
     ]
    }
   ],
   "source": [
    "print(list)"
   ]
  },
  {
   "cell_type": "code",
   "execution_count": 4,
   "id": "1a9f808b",
   "metadata": {},
   "outputs": [
    {
     "data": {
      "text/plain": [
       "20"
      ]
     },
     "execution_count": 4,
     "metadata": {},
     "output_type": "execute_result"
    }
   ],
   "source": [
    "aTuple=[\"Orange\", (10, 20, 30), (5, 15, 25)]\n",
    "aTuple.append(\"Mango\")\n",
    "aTuple[1][1]"
   ]
  },
  {
   "cell_type": "code",
   "execution_count": 5,
   "id": "e8480be4",
   "metadata": {},
   "outputs": [
    {
     "name": "stdout",
     "output_type": "stream",
     "text": [
      "['Orange', (10, 20, 30), (5, 15, 25), 'Mango']\n"
     ]
    }
   ],
   "source": [
    "print(aTuple)"
   ]
  },
  {
   "cell_type": "code",
   "execution_count": 6,
   "id": "279bded7",
   "metadata": {},
   "outputs": [],
   "source": [
    "##3. Print First 10 natural numbers using while loop."
   ]
  },
  {
   "cell_type": "code",
   "execution_count": 7,
   "id": "e50385a0",
   "metadata": {},
   "outputs": [
    {
     "name": "stdout",
     "output_type": "stream",
     "text": [
      "1\n",
      "2\n",
      "3\n",
      "4\n",
      "5\n",
      "6\n",
      "7\n",
      "8\n",
      "9\n",
      "10\n"
     ]
    }
   ],
   "source": [
    "i=1\n",
    "while i<=10:\n",
    "    print(i)\n",
    "    i=i+1\n"
   ]
  },
  {
   "cell_type": "code",
   "execution_count": 8,
   "id": "02821e51",
   "metadata": {},
   "outputs": [],
   "source": [
    "##8. Concatenate two lists index-wise"
   ]
  },
  {
   "cell_type": "code",
   "execution_count": 9,
   "id": "9d5538d1",
   "metadata": {},
   "outputs": [
    {
     "data": {
      "text/plain": [
       "[4, 5, 6, 7, 8, 9, 11, 12, 13, 14, 15]"
      ]
     },
     "execution_count": 9,
     "metadata": {},
     "output_type": "execute_result"
    }
   ],
   "source": [
    "a1=[4,5,6,7,8,9]\n",
    "a2=[11,12,13,14,15]\n",
    "(a1+a2)"
   ]
  },
  {
   "cell_type": "code",
   "execution_count": 10,
   "id": "04358fa1",
   "metadata": {},
   "outputs": [],
   "source": [
    "##9. Given a Python list of numbers. Turn every item of a list into its square\n"
   ]
  },
  {
   "cell_type": "code",
   "execution_count": 11,
   "id": "9e167306",
   "metadata": {},
   "outputs": [
    {
     "name": "stdout",
     "output_type": "stream",
     "text": [
      "[1, 4, 9, 16, 25, 36, 49, 64, 81, 100]\n"
     ]
    }
   ],
   "source": [
    "square=[a**2 for a in range (1,11)]\n",
    "print(square)\n"
   ]
  },
  {
   "cell_type": "code",
   "execution_count": 12,
   "id": "b9f1f06d",
   "metadata": {},
   "outputs": [],
   "source": [
    "##4. Accept number from user and calculate the sum of all number from 1 to a given number"
   ]
  },
  {
   "cell_type": "code",
   "execution_count": 13,
   "id": "32447f51",
   "metadata": {},
   "outputs": [
    {
     "name": "stdout",
     "output_type": "stream",
     "text": [
      "1\n",
      "3\n",
      "6\n",
      "10\n",
      "15\n",
      "21\n",
      "28\n",
      "36\n",
      "45\n",
      "55\n",
      "66\n",
      "78\n",
      "91\n",
      "105\n",
      "120\n",
      "136\n",
      "153\n",
      "171\n",
      "190\n",
      "210\n"
     ]
    }
   ],
   "source": [
    "\n",
    "sum=0\n",
    "i=1\n",
    "while i<=20:\n",
    "    sum=sum+i\n",
    "    i=i+1\n",
    "    print(sum)"
   ]
  },
  {
   "cell_type": "code",
   "execution_count": 14,
   "id": "bea4229e",
   "metadata": {},
   "outputs": [],
   "source": [
    "l=[1,2,3,78,25,89,101,21]"
   ]
  },
  {
   "cell_type": "code",
   "execution_count": 15,
   "id": "28dd007d",
   "metadata": {},
   "outputs": [],
   "source": [
    "l.sort()"
   ]
  },
  {
   "cell_type": "code",
   "execution_count": 16,
   "id": "8f9cd1b0",
   "metadata": {},
   "outputs": [
    {
     "data": {
      "text/plain": [
       "[1, 2, 3, 21, 25, 78, 89, 101]"
      ]
     },
     "execution_count": 16,
     "metadata": {},
     "output_type": "execute_result"
    }
   ],
   "source": [
    "l"
   ]
  },
  {
   "cell_type": "code",
   "execution_count": 17,
   "id": "3d50bde0",
   "metadata": {},
   "outputs": [],
   "source": [
    "l.reverse()"
   ]
  },
  {
   "cell_type": "code",
   "execution_count": 18,
   "id": "e3238cfe",
   "metadata": {},
   "outputs": [
    {
     "data": {
      "text/plain": [
       "[101, 89, 78, 25, 21, 3, 2, 1]"
      ]
     },
     "execution_count": 18,
     "metadata": {},
     "output_type": "execute_result"
    }
   ],
   "source": [
    "l"
   ]
  },
  {
   "cell_type": "code",
   "execution_count": 19,
   "id": "0092d414",
   "metadata": {},
   "outputs": [],
   "source": [
    "l.insert(0,25)"
   ]
  },
  {
   "cell_type": "code",
   "execution_count": 20,
   "id": "63cb5817",
   "metadata": {},
   "outputs": [
    {
     "data": {
      "text/plain": [
       "[25, 101, 89, 78, 25, 21, 3, 2, 1]"
      ]
     },
     "execution_count": 20,
     "metadata": {},
     "output_type": "execute_result"
    }
   ],
   "source": [
    "l"
   ]
  },
  {
   "cell_type": "code",
   "execution_count": 21,
   "id": "4f711fa9",
   "metadata": {},
   "outputs": [
    {
     "data": {
      "text/plain": [
       "1"
      ]
     },
     "execution_count": 21,
     "metadata": {},
     "output_type": "execute_result"
    }
   ],
   "source": [
    "l.pop()"
   ]
  },
  {
   "cell_type": "code",
   "execution_count": 22,
   "id": "3d069a8d",
   "metadata": {},
   "outputs": [
    {
     "data": {
      "text/plain": [
       "[25, 101, 89, 78, 25, 21, 3, 2]"
      ]
     },
     "execution_count": 22,
     "metadata": {},
     "output_type": "execute_result"
    }
   ],
   "source": [
    "l"
   ]
  },
  {
   "cell_type": "code",
   "execution_count": 23,
   "id": "3b9e0ef4",
   "metadata": {},
   "outputs": [],
   "source": [
    "##"
   ]
  },
  {
   "cell_type": "code",
   "execution_count": 24,
   "id": "e476722d",
   "metadata": {},
   "outputs": [
    {
     "name": "stdout",
     "output_type": "stream",
     "text": [
      "Not Found\n",
      "0\n",
      "Not Found\n",
      "1\n",
      "Not Found\n",
      "2\n",
      "Not Found\n",
      "3\n",
      "found\n",
      "Not Found\n",
      "5\n",
      "Not Found\n",
      "6\n",
      "Not Found\n",
      "7\n",
      "Not Found\n",
      "8\n",
      "Not Found\n",
      "9\n"
     ]
    }
   ],
   "source": [
    "i=0\n",
    "while i<10:\n",
    "    if i==4:\n",
    "        print(\"found\")\n",
    "    else:\n",
    "        print('Not Found')\n",
    "        print(i)\n",
    "    i+=1\n",
    "    "
   ]
  },
  {
   "cell_type": "code",
   "execution_count": 25,
   "id": "ae138e3f",
   "metadata": {},
   "outputs": [
    {
     "name": "stdout",
     "output_type": "stream",
     "text": [
      "1 6\n",
      "1 7\n",
      "1 8\n",
      "1 9\n",
      "1 10\n",
      "2 6\n",
      "2 7\n",
      "2 8\n",
      "2 9\n",
      "2 10\n",
      "3 6\n",
      "3 7\n",
      "3 8\n",
      "3 9\n",
      "3 10\n",
      "4 6\n",
      "4 7\n",
      "4 8\n",
      "4 9\n",
      "4 10\n",
      "5 6\n",
      "5 7\n",
      "5 8\n",
      "5 9\n",
      "5 10\n"
     ]
    }
   ],
   "source": [
    "list1=['1','2','3','4','5']\n",
    "list2=['6','7','8','9','10']\n",
    "\n",
    "for x in list1:\n",
    "    for y in list2:\n",
    "        print(x,y)"
   ]
  },
  {
   "cell_type": "code",
   "execution_count": 26,
   "id": "c8a39d8b",
   "metadata": {},
   "outputs": [],
   "source": [
    "## for loop break statement"
   ]
  },
  {
   "cell_type": "code",
   "execution_count": 27,
   "id": "ce81bbb5",
   "metadata": {},
   "outputs": [
    {
     "ename": "TypeError",
     "evalue": "argument of type 'int' is not iterable",
     "output_type": "error",
     "traceback": [
      "\u001b[1;31m---------------------------------------------------------------------------\u001b[0m",
      "\u001b[1;31mTypeError\u001b[0m                                 Traceback (most recent call last)",
      "\u001b[1;32mC:\\Users\\ANUSHK~1\\AppData\\Local\\Temp/ipykernel_10732/3737199477.py\u001b[0m in \u001b[0;36m<module>\u001b[1;34m\u001b[0m\n\u001b[0;32m      1\u001b[0m \u001b[0mlists\u001b[0m\u001b[1;33m=\u001b[0m\u001b[1;36m12\u001b[0m\u001b[1;33m\u001b[0m\u001b[1;33m\u001b[0m\u001b[0m\n\u001b[1;32m----> 2\u001b[1;33m \u001b[1;32mwhile\u001b[0m \u001b[0mi\u001b[0m \u001b[1;32min\u001b[0m \u001b[0mlists\u001b[0m\u001b[1;33m:\u001b[0m\u001b[1;33m\u001b[0m\u001b[1;33m\u001b[0m\u001b[0m\n\u001b[0m\u001b[0;32m      3\u001b[0m     \u001b[1;32mif\u001b[0m \u001b[0mi\u001b[0m\u001b[1;33m/\u001b[0m\u001b[1;36m3\u001b[0m\u001b[1;33m:\u001b[0m\u001b[1;33m\u001b[0m\u001b[1;33m\u001b[0m\u001b[0m\n\u001b[0;32m      4\u001b[0m         \u001b[0mprint\u001b[0m\u001b[1;33m(\u001b[0m\u001b[0mi\u001b[0m\u001b[1;33m)\u001b[0m\u001b[1;33m\u001b[0m\u001b[1;33m\u001b[0m\u001b[0m\n\u001b[0;32m      5\u001b[0m     \u001b[1;32melse\u001b[0m\u001b[1;33m:\u001b[0m\u001b[1;33m\u001b[0m\u001b[1;33m\u001b[0m\u001b[0m\n",
      "\u001b[1;31mTypeError\u001b[0m: argument of type 'int' is not iterable"
     ]
    }
   ],
   "source": [
    "lists=12\n",
    "while i in lists:\n",
    "    if i/3:\n",
    "        print(i)\n",
    "    else:\n",
    "        print('not ok')\n",
    "   "
   ]
  },
  {
   "cell_type": "code",
   "execution_count": null,
   "id": "271d0306",
   "metadata": {},
   "outputs": [],
   "source": [
    "i=10\n",
    "while i<=100:\n",
    "    print(i/2)\n",
    "    i=i+5\n",
    "print('End program')"
   ]
  },
  {
   "cell_type": "code",
   "execution_count": null,
   "id": "f5786551",
   "metadata": {},
   "outputs": [],
   "source": [
    "lists=[25,36,15,48,69,87]\n",
    "sum=0\n",
    "for x in lists:\n",
    "    sum= sum+x\n",
    "    print(sum)"
   ]
  },
  {
   "cell_type": "code",
   "execution_count": 30,
   "id": "cdd7956c",
   "metadata": {},
   "outputs": [
    {
     "name": "stdout",
     "output_type": "stream",
     "text": [
      "ok\n"
     ]
    }
   ],
   "source": [
    "lists=21\n",
    "if (lists%3==0):\n",
    "    print('ok')\n",
    "elif(lists%5==0):\n",
    "    print('iteam is divided by 5')\n",
    "else:\n",
    "    print('iteam are not correct')"
   ]
  },
  {
   "cell_type": "code",
   "execution_count": null,
   "id": "4f71bfa4",
   "metadata": {},
   "outputs": [],
   "source": []
  }
 ],
 "metadata": {
  "kernelspec": {
   "display_name": "Python 3 (ipykernel)",
   "language": "python",
   "name": "python3"
  },
  "language_info": {
   "codemirror_mode": {
    "name": "ipython",
    "version": 3
   },
   "file_extension": ".py",
   "mimetype": "text/x-python",
   "name": "python",
   "nbconvert_exporter": "python",
   "pygments_lexer": "ipython3",
   "version": "3.9.7"
  }
 },
 "nbformat": 4,
 "nbformat_minor": 5
}
