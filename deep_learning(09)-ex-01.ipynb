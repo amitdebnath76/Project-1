{
 "cells": [
  {
   "cell_type": "code",
   "execution_count": 6,
   "id": "a4905cb0-d918-4c60-accb-6e69146a3156",
   "metadata": {},
   "outputs": [],
   "source": [
    "import tensorflow as tf\n",
    "import numpy as np\n",
    "import matplotlib.pyplot as plt\n",
    "import warnings\n",
    "warnings.filterwarnings('ignore')\n",
    "%matplotlib inline"
   ]
  },
  {
   "cell_type": "code",
   "execution_count": 9,
   "id": "7aaf86ed-4e6c-4afb-9c8c-3c0d60a72092",
   "metadata": {},
   "outputs": [],
   "source": [
    "class NeuralNetwork:\n",
    "    def __init__ (self,layers):\n",
    "        self.layers=layers\n",
    "        self.L=len(layers)\n",
    "        self.numbers_feature=layers[0]\n",
    "        self.numbers_class= layers[1]\n",
    "        self.W={}\n",
    "        self.b={}\n",
    "        self.dw={}\n",
    "        self.db={}\n",
    "        self.setup()\n",
    "    def setup(self):\n",
    "        for i in range(1,self.L):\n",
    "            self.W[i]=tf.Variable(tf.random.normal(shape=(self.layers[i],self.layers[i-1])))\n",
    "            self.b[i]=tf.Variable(tf.random.normal(shape=(self.layers[i],1)))\n",
    "                            \n",
    "        "
   ]
  },
  {
   "cell_type": "code",
   "execution_count": 18,
   "id": "1013d6ab-2e86-4c43-a684-804b6569b569",
   "metadata": {},
   "outputs": [],
   "source": [
    "#Forward Propagation\n",
    "class NeuralNetwork(NeuralNetwork):\n",
    "    def forwardpass(self,A):\n",
    "        A= tf.convert_to_tensor(A, dtype=float32)\n",
    "        for i in range(1, self.L):\n",
    "            Z= tf.matmul(A,tf.transpose(self.W[i])) + tf.transpose(self.b[i])\n",
    "            if i!= self.L-1:\n",
    "                A=tf.nn.relu(Z)\n",
    "            else:\n",
    "                A=Z\n",
    "        return A\n",
    "            "
   ]
  },
  {
   "cell_type": "code",
   "execution_count": 19,
   "id": "731d8745-8611-4a73-8080-bde10bdccf79",
   "metadata": {},
   "outputs": [],
   "source": [
    "# We will use this section for computing loss function and Upgrading the previous Parameters\n",
    "class NeuralNetwork(NeuralNetwork):\n",
    "    def compute_loss(self,A,Y):\n",
    "        return tf.reduce_mean (tf.nn.softmax_cross_entropy_with_logits(Y,A))\n",
    "    def upgrade_Parameters (self, lr):\n",
    "        for j in range (1,self.L):\n",
    "            self.W[j].assing_sub (lr*self.dw[j])\n",
    "            self.b[j].assing_sub (lr*self.db[j])"
   ]
  },
  {
   "cell_type": "code",
   "execution_count": 24,
   "id": "377e903d-99b7-4872-8a2c-b997729f48b5",
   "metadata": {},
   "outputs": [],
   "source": [
    "class NeuralNetwork(NeuralNetwork):\n",
    "    def predict(self,x):\n",
    "        A = self.forwardpass(x)\n",
    "        return tf.argmax(tf.nn.softmax(A),axis=1)\n",
    "    def info(self):\n",
    "        num_params=0\n",
    "        for i in range (1,self.L):\n",
    "            num_params+=self.W[i].shape[0] * self.W[i].shape[1]\n",
    "            num_params+= self.b[i].shape[0]\n",
    "        print('Number of Feature:{}',format(self.num_feature))\n",
    "        print('Total Number of class is :{}'.format(self.number_class))\n",
    "        print('Hidden Layer Information is:')\n",
    "        for j in range ( 1,self.L-1 ):\n",
    "            print('Layers:{},Units{}'. format(i,self.layers[j]))\n",
    "        print('Total number of Parameters:{}'.format(num_params))"
   ]
  },
  {
   "cell_type": "code",
   "execution_count": null,
   "id": "c19d412b-a9aa-413d-ab83-944eb87674c7",
   "metadata": {},
   "outputs": [],
   "source": []
  }
 ],
 "metadata": {
  "kernelspec": {
   "display_name": "Python 3 (ipykernel)",
   "language": "python",
   "name": "python3"
  },
  "language_info": {
   "codemirror_mode": {
    "name": "ipython",
    "version": 3
   },
   "file_extension": ".py",
   "mimetype": "text/x-python",
   "name": "python",
   "nbconvert_exporter": "python",
   "pygments_lexer": "ipython3",
   "version": "3.9.7"
  },
  "toc-showcode": false,
  "toc-showtags": true
 },
 "nbformat": 4,
 "nbformat_minor": 5
}
